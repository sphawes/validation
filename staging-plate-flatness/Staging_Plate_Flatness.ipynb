{
 "cells": [
  {
   "cell_type": "code",
   "execution_count": 1,
   "metadata": {},
   "outputs": [],
   "source": [
    "%matplotlib qt\n",
    "import matplotlib.pyplot as plt\n",
    "import numpy as np\n",
    "import pandas as pd"
   ]
  },
  {
   "cell_type": "code",
   "execution_count": 2,
   "metadata": {},
   "outputs": [],
   "source": [
    "#loading in the csv and converting to a dataframe\n",
    "path = \"log/FAI_1624303165.csv\"\n",
    "data = pd.read_csv(path, sep=r'\\s*,\\s*', header=0, encoding='ascii', engine='python')\n",
    "\n",
    "xdata = data['x_pos']\n",
    "ydata = data['y_pos']\n",
    "zdata = data['z_pos']"
   ]
  },
  {
   "cell_type": "code",
   "execution_count": 4,
   "metadata": {},
   "outputs": [],
   "source": [
    "fig = plt.figure(figsize=(12,10))\n",
    "ax = fig.add_subplot(projection='3d')\n",
    "#ax.scatter3D(xdata, ydata, zdata, c=zdata, cmap='Greens', edgecolors='face');\n",
    "ax.scatter(xdata, ydata, zdata, marker='o')\n",
    "ax.set_xlabel('X Label')\n",
    "ax.set_ylabel('Y Label')\n",
    "ax.set_zlabel('Z Label')\n",
    "\n",
    "ax.set_xlim3d(0,440)\n",
    "ax.set_ylim3d(0,70)\n",
    "ax.set_zlim3d(0,2.5)\n",
    "\n",
    "ax.view_init(20, -60)\n",
    "\n",
    "plt.show()"
   ]
  },
  {
   "cell_type": "code",
   "execution_count": null,
   "metadata": {},
   "outputs": [],
   "source": []
  }
 ],
 "metadata": {
  "kernelspec": {
   "display_name": "Python 3",
   "language": "python",
   "name": "python3"
  },
  "language_info": {
   "codemirror_mode": {
    "name": "ipython",
    "version": 3
   },
   "file_extension": ".py",
   "mimetype": "text/x-python",
   "name": "python",
   "nbconvert_exporter": "python",
   "pygments_lexer": "ipython3",
   "version": "3.8.5"
  }
 },
 "nbformat": 4,
 "nbformat_minor": 5
}
